{
 "cells": [
  {
   "cell_type": "markdown",
   "id": "32ee36ef",
   "metadata": {},
   "source": [
    "# q1 ) print half diamond\n"
   ]
  },
  {
   "cell_type": "code",
   "execution_count": 2,
   "id": "e4fabd9b",
   "metadata": {},
   "outputs": [
    {
     "name": "stdout",
     "output_type": "stream",
     "text": [
      "* \n",
      "* * \n",
      "* * * \n",
      "* * * * \n",
      "* * * * * \n",
      "* * * * \n",
      "* * * \n",
      "* * \n",
      "* \n"
     ]
    }
   ],
   "source": [
    "n=9\n",
    "for i in range(1,n+1):\n",
    "    if i<=n/2:  #to print decresing triange \n",
    "        for j in range(1,i+1):# print from row 1 to 4\n",
    "            print(\"*\",end=\" \")\n",
    "    else:#to print increasing triangle\n",
    "        for j in  range(i,n+1):#prints from row 5 to 9\n",
    "            print(\"*\",end=\" \")\n",
    "    print()"
   ]
  },
  {
   "cell_type": "markdown",
   "id": "8aff3add",
   "metadata": {},
   "source": [
    "q2) reverse a word given by the user\n"
   ]
  },
  {
   "cell_type": "code",
   "execution_count": 1,
   "id": "b370c0cf",
   "metadata": {},
   "outputs": [
    {
     "name": "stdout",
     "output_type": "stream",
     "text": [
      "enter the wordtarun\n",
      "nurat\n"
     ]
    }
   ],
   "source": [
    "w= input(\"enter the word : \")\n",
    "print(w[-1::-1])# print word in reverse"
   ]
  },
  {
   "cell_type": "code",
   "execution_count": null,
   "id": "31b03767",
   "metadata": {},
   "outputs": [],
   "source": []
  },
  {
   "cell_type": "code",
   "execution_count": null,
   "id": "cca4812a",
   "metadata": {},
   "outputs": [],
   "source": []
  }
 ],
 "metadata": {
  "kernelspec": {
   "display_name": "Python 3",
   "language": "python",
   "name": "python3"
  },
  "language_info": {
   "codemirror_mode": {
    "name": "ipython",
    "version": 3
   },
   "file_extension": ".py",
   "mimetype": "text/x-python",
   "name": "python",
   "nbconvert_exporter": "python",
   "pygments_lexer": "ipython3",
   "version": "3.8.8"
  }
 },
 "nbformat": 4,
 "nbformat_minor": 5
}
