{
 "cells": [
  {
   "cell_type": "markdown",
   "id": "d934c913",
   "metadata": {},
   "source": [
    "# q1 ) print half diamond\n"
   ]
  },
  {
   "cell_type": "code",
   "execution_count": null,
   "id": "ccad3319",
   "metadata": {},
   "outputs": [],
   "source": [
    "n=9\n",
    "for i in range(1,n+1):\n",
    "    if i<=n/2:  #to print decresing triange \n",
    "        for j in range(1,i+1):# print from row 1 to 4\n",
    "            print(\"*\",end=\" \")\n",
    "    else:#to print increasing triangle\n",
    "        for j in  range(i,n+1):#prints from row 5 to 9\n",
    "            print(\"*\",end=\" \")\n",
    "    print()"
   ]
  },
  {
   "cell_type": "markdown",
   "id": "8ed3847d",
   "metadata": {},
   "source": [
    "q2) reverse a word given by the user\n"
   ]
  },
  {
   "cell_type": "code",
   "execution_count": 1,
   "id": "797d376e",
   "metadata": {},
   "outputs": [
    {
     "name": "stdout",
     "output_type": "stream",
     "text": [
      "enter the wordtarun\n",
      "nurat\n"
     ]
    }
   ],
   "source": [
    "w= input(\"enter the word : \")\n",
    "print(w[-1::-1])# print word in reverse"
   ]
  },
  {
   "cell_type": "code",
   "execution_count": null,
   "id": "79459d82",
   "metadata": {},
   "outputs": [],
   "source": []
  },
  {
   "cell_type": "code",
   "execution_count": null,
   "id": "f5c000b3",
   "metadata": {},
   "outputs": [],
   "source": []
  }
 ],
 "metadata": {
  "kernelspec": {
   "display_name": "Python 3",
   "language": "python",
   "name": "python3"
  },
  "language_info": {
   "codemirror_mode": {
    "name": "ipython",
    "version": 3
   },
   "file_extension": ".py",
   "mimetype": "text/x-python",
   "name": "python",
   "nbconvert_exporter": "python",
   "pygments_lexer": "ipython3",
   "version": "3.8.8"
  }
 },
 "nbformat": 4,
 "nbformat_minor": 5
}
